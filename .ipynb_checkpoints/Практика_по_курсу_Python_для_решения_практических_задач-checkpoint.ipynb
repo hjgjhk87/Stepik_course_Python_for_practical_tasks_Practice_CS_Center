{
 "cells": [
  {
   "cell_type": "markdown",
   "metadata": {},
   "source": [
    "# 1 Обработка web-страниц"
   ]
  },
  {
   "cell_type": "markdown",
   "metadata": {},
   "source": [
    "## 1.1 Скачивание web-страниц"
   ]
  },
  {
   "cell_type": "code",
   "execution_count": 9,
   "metadata": {},
   "outputs": [
    {
     "name": "stdout",
     "output_type": "stream",
     "text": [
      "19\n"
     ]
    }
   ],
   "source": [
    "from urllib.request import urlopen\n",
    "\n",
    "html = urlopen(\"https://ru.wikipedia.org/wiki/Python\").read().decode('utf-8')\n",
    "print(html.count('C++'))\n",
    "print(urlopen(\"https://ru.wikipedia.org/wiki/Python\").read())"
   ]
  },
  {
   "cell_type": "markdown",
   "metadata": {},
   "source": [
    "### Задача 1.1"
   ]
  },
  {
   "cell_type": "code",
   "execution_count": 37,
   "metadata": {},
   "outputs": [
    {
     "name": "stdout",
     "output_type": "stream",
     "text": [
      "C++\n"
     ]
    }
   ],
   "source": [
    "from urllib.request import urlopen\n",
    "import re\n",
    "\n",
    "html = urlopen(\"https://stepik.org/media/attachments/lesson/209717/1.html\").read().decode('utf-8')\n",
    "print('C++' if html.count('C++') > html.count('Python') else 'Python')\n"
   ]
  },
  {
   "cell_type": "code",
   "execution_count": 39,
   "metadata": {},
   "outputs": [
    {
     "name": "stdout",
     "output_type": "stream",
     "text": [
      "['С++', 'С++', 'С++', 'C++', 'C++', 'C++', 'C++', 'С++', 'С++', 'С++', 'С++', 'С++', 'С++', 'С++', 'С++', 'C++', 'C++', 'C++', 'C++', 'С++', 'С++', 'C++', 'C++', 'C++', 'Си++', 'C++', 'C++', 'C++', 'C++', 'C++', 'C++'] 31\n",
      "C++\n"
     ]
    }
   ],
   "source": [
    "from urllib.request import urlopen\n",
    "import re\n",
    "\n",
    "html = urlopen(\"https://stepik.org/media/attachments/lesson/209717/1.html\").read().decode('utf-8')\n",
    "m = re.findall(r'([CС]\\+\\+|СИ\\+\\+)', html, flags=re.IGNORECASE)\n",
    "print(m, len(m))\n",
    "print('C++' if len(m) > html.count('Python') else 'Python')\n"
   ]
  },
  {
   "cell_type": "code",
   "execution_count": 40,
   "metadata": {},
   "outputs": [
    {
     "name": "stdout",
     "output_type": "stream",
     "text": [
      "Help on function findall in module re:\n",
      "\n",
      "findall(pattern, string, flags=0)\n",
      "    Return a list of all non-overlapping matches in the string.\n",
      "    \n",
      "    If one or more capturing groups are present in the pattern, return\n",
      "    a list of groups; this will be a list of tuples if the pattern\n",
      "    has more than one group.\n",
      "    \n",
      "    Empty matches are included in the result.\n",
      "\n"
     ]
    }
   ],
   "source": [
    "help(re.findall)"
   ]
  },
  {
   "cell_type": "markdown",
   "metadata": {},
   "source": [
    "## 1.2 Обработка html как текста"
   ]
  },
  {
   "cell_type": "code",
   "execution_count": 52,
   "metadata": {},
   "outputs": [
    {
     "name": "stdout",
     "output_type": "stream",
     "text": [
      "12\n"
     ]
    }
   ],
   "source": [
    "from urllib.request import urlopen\n",
    "\n",
    "html = urlopen(\"https://ru.wikipedia.org/wiki/Python\").read().decode('utf-8')\n",
    "\n",
    "text = []\n",
    "state = 0\n",
    "for c in html:\n",
    "    if c == '<':\n",
    "        state = 1\n",
    "    elif c == '>':\n",
    "        state = 0\n",
    "    elif state == 0:\n",
    "        text.append(c)\n",
    "        \n",
    "text = ''.join(text)        \n",
    "print(text.count('C++'))"
   ]
  },
  {
   "cell_type": "code",
   "execution_count": 61,
   "metadata": {},
   "outputs": [],
   "source": [
    "# Добавление + в регулярку делает её нежадной.\n",
    "# По умолчанию символ \\n конца строки не подходит под точку.\n",
    "# С флагом re.DOTALL точка — вообще любой символ.\n",
    "text2 = re.sub(r'<.+?>', '', html, flags=re.DOTALL)\n",
    "with open('python_wiki.txt', 'w', encoding='utf-8') as f:\n",
    "    f.write(text2)"
   ]
  },
  {
   "cell_type": "code",
   "execution_count": 63,
   "metadata": {},
   "outputs": [
    {
     "name": "stdout",
     "output_type": "stream",
     "text": [
      "True\n",
      "97752 97752\n",
      "0 0\n",
      "0 0\n"
     ]
    }
   ],
   "source": [
    "print(text == text2)\n",
    "print(len(text), len(text2))\n",
    "print(text.count('<'), text2.count('<'))\n",
    "print(text.count('>'), text2.count('>'))"
   ]
  },
  {
   "cell_type": "code",
   "execution_count": null,
   "metadata": {},
   "outputs": [],
   "source": []
  }
 ],
 "metadata": {
  "kernelspec": {
   "display_name": "stepic_web_gust_py3_7",
   "language": "python",
   "name": "stepic_web_gust_py3_7"
  },
  "language_info": {
   "codemirror_mode": {
    "name": "ipython",
    "version": 3
   },
   "file_extension": ".py",
   "mimetype": "text/x-python",
   "name": "python",
   "nbconvert_exporter": "python",
   "pygments_lexer": "ipython3",
   "version": "3.7.9"
  }
 },
 "nbformat": 4,
 "nbformat_minor": 2
}
