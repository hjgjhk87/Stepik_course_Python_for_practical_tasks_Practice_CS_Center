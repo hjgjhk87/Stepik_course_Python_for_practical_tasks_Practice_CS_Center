{
 "cells": [
  {
   "cell_type": "markdown",
   "metadata": {},
   "source": [
    "# 1 Обработка web-страниц"
   ]
  },
  {
   "cell_type": "markdown",
   "metadata": {},
   "source": [
    "## 1.1 Скачивание web-страниц"
   ]
  },
  {
   "cell_type": "code",
   "execution_count": 9,
   "metadata": {},
   "outputs": [
    {
     "name": "stdout",
     "output_type": "stream",
     "text": [
      "19\n"
     ]
    }
   ],
   "source": [
    "from urllib.request import urlopen\n",
    "\n",
    "html = urlopen(\"https://ru.wikipedia.org/wiki/Python\").read().decode('utf-8')\n",
    "print(html.count('C++'))\n",
    "print(urlopen(\"https://ru.wikipedia.org/wiki/Python\").read())"
   ]
  },
  {
   "cell_type": "markdown",
   "metadata": {},
   "source": [
    "### Задача 1.1"
   ]
  },
  {
   "cell_type": "code",
   "execution_count": 37,
   "metadata": {},
   "outputs": [
    {
     "name": "stdout",
     "output_type": "stream",
     "text": [
      "C++\n"
     ]
    }
   ],
   "source": [
    "from urllib.request import urlopen\n",
    "import re\n",
    "\n",
    "html = urlopen(\"https://stepik.org/media/attachments/lesson/209717/1.html\").read().decode('utf-8')\n",
    "print('C++' if html.count('C++') > html.count('Python') else 'Python')\n"
   ]
  },
  {
   "cell_type": "markdown",
   "metadata": {},
   "source": [
    "__#2__ C регулярками:"
   ]
  },
  {
   "cell_type": "code",
   "execution_count": 39,
   "metadata": {},
   "outputs": [
    {
     "name": "stdout",
     "output_type": "stream",
     "text": [
      "['С++', 'С++', 'С++', 'C++', 'C++', 'C++', 'C++', 'С++', 'С++', 'С++', 'С++', 'С++', 'С++', 'С++', 'С++', 'C++', 'C++', 'C++', 'C++', 'С++', 'С++', 'C++', 'C++', 'C++', 'Си++', 'C++', 'C++', 'C++', 'C++', 'C++', 'C++'] 31\n",
      "C++\n"
     ]
    }
   ],
   "source": [
    "from urllib.request import urlopen\n",
    "import re\n",
    "\n",
    "html = urlopen(\"https://stepik.org/media/attachments/lesson/209717/1.html\").read().decode('utf-8')\n",
    "m = re.findall(r'([CС]\\+\\+|СИ\\+\\+)', html, flags=re.IGNORECASE)\n",
    "print(m, len(m))\n",
    "print('C++' if len(m) > html.count('Python') else 'Python')\n"
   ]
  },
  {
   "cell_type": "code",
   "execution_count": 40,
   "metadata": {},
   "outputs": [
    {
     "name": "stdout",
     "output_type": "stream",
     "text": [
      "Help on function findall in module re:\n",
      "\n",
      "findall(pattern, string, flags=0)\n",
      "    Return a list of all non-overlapping matches in the string.\n",
      "    \n",
      "    If one or more capturing groups are present in the pattern, return\n",
      "    a list of groups; this will be a list of tuples if the pattern\n",
      "    has more than one group.\n",
      "    \n",
      "    Empty matches are included in the result.\n",
      "\n"
     ]
    }
   ],
   "source": [
    "help(re.findall)"
   ]
  },
  {
   "cell_type": "markdown",
   "metadata": {},
   "source": [
    "## 1.2 Обработка html как текста"
   ]
  },
  {
   "cell_type": "code",
   "execution_count": 100,
   "metadata": {},
   "outputs": [
    {
     "name": "stdout",
     "output_type": "stream",
     "text": [
      "567  5  8 fgh\n",
      "0\n"
     ]
    }
   ],
   "source": [
    "from urllib.request import urlopen\n",
    "\n",
    "html = urlopen(\"https://ru.wikipedia.org/wiki/Python\").read().decode('utf-8')\n",
    "# html = '567<fghj> <fghj> 5 < 8 fgh' # 567  5  ??? Корректно ли ???\n",
    "# html = '567<fghj> <fghj> 5 > 8 fgh' # 567  5  8 fgh\n",
    "#html = '567<fg <111 hj> <fghj> 5 > 8 fgh'   # 567  5  8 fgh ???\n",
    "#html = '567<fg <111> hj> <fghj> 5 > 8 fgh' # 567 hj  5  8 fgh ???\n",
    "\n",
    "\n",
    "text = []\n",
    "state = 0\n",
    "for c in html:\n",
    "    if c == '<':\n",
    "        state = 1\n",
    "    elif c == '>':\n",
    "        state = 0\n",
    "    elif state == 0:\n",
    "        text.append(c)\n",
    "\n",
    "text = ''.join(text)\n",
    "print(text)\n",
    "print(text.count('C++'))"
   ]
  },
  {
   "cell_type": "markdown",
   "metadata": {},
   "source": [
    "Пробую решить задачу из урока с помощью __регулярных выражений__:\n",
    "\n",
    "Добавление + в регулярку делает её нежадной.  \n",
    "По умолчанию символ \\n конца строки не подходит под точку.  \n",
    "С флагом re.DOTALL точка — вообще любой символ."
   ]
  },
  {
   "cell_type": "code",
   "execution_count": 61,
   "metadata": {},
   "outputs": [],
   "source": [
    "import re\n",
    "\n",
    "text2 = re.sub(r'<.+?>', '', html, flags=re.DOTALL)\n",
    "with open('python_wiki.txt', 'w', encoding='utf-8') as f:\n",
    "    f.write(text2)"
   ]
  },
  {
   "cell_type": "code",
   "execution_count": 63,
   "metadata": {},
   "outputs": [
    {
     "name": "stdout",
     "output_type": "stream",
     "text": [
      "True\n",
      "97752 97752\n",
      "0 0\n",
      "0 0\n"
     ]
    }
   ],
   "source": [
    "print(text == text2)\n",
    "print(len(text), len(text2))\n",
    "print(text.count('<'), text2.count('<'))\n",
    "print(text.count('>'), text2.count('>'))"
   ]
  },
  {
   "cell_type": "markdown",
   "metadata": {},
   "source": [
    "Окончательное решение с помощью регулярных выражений:\n",
    "\n",
    "Плохо работает со случаями вложенных тегов и свободных < и >. Впрочем, может это и неплохо. Главное, что хорошо работает с корректной html страницей, т.к. если страница некорректна, то тогда слишком много неопределенности: какой текст нужно анализировать, а какой нужно отбрасывать."
   ]
  },
  {
   "cell_type": "code",
   "execution_count": 104,
   "metadata": {},
   "outputs": [
    {
     "name": "stdout",
     "output_type": "stream",
     "text": [
      "567  5 < 8 fgh\n",
      "0\n"
     ]
    }
   ],
   "source": [
    "from urllib.request import urlopen\n",
    "\n",
    "html = urlopen(\"https://ru.wikipedia.org/wiki/Python\").read().decode('utf-8')\n",
    "#html = '567<fghj> <fghj> 5 < 8 fgh' # 567  5 < 8 fgh\n",
    "#html = '567<fghj> <fghj> 5 > 8 fgh' # 567  5 > 8 fgh\n",
    "#html = '567<fg <111 hj> <fghj> 5 > 8 fgh'   # 567  5 > 8 fgh ???\n",
    "#html = '567<fg <111> hj> <fghj> 5 > 8 fgh' # 567 hj>  5 > 8 fgh ???\n",
    "\n",
    "\n",
    "text = re.sub(r'<.+?>', '', html, flags=re.DOTALL)\n",
    "print(text)\n",
    "print(text.count('C++'))"
   ]
  },
  {
   "cell_type": "markdown",
   "metadata": {},
   "source": [
    "Немного переделала скрипт из урока. Работает, во-первых, не совсем так, как исходный скрипт, во-вторых, неидеально, если в тексте есть свободные занки < и > (ну, у исходного скрипта, в принципе такая же проблема) (см. тест. случаи). Потенциально должен быть быстрее на больших текстах за счет уменьшения количества аппендов:"
   ]
  },
  {
   "cell_type": "code",
   "execution_count": 84,
   "metadata": {},
   "outputs": [
    {
     "name": "stdout",
     "output_type": "stream",
     "text": [
      "567  8 fgh\n",
      "0\n"
     ]
    }
   ],
   "source": [
    "from urllib.request import urlopen\n",
    "\n",
    "#html = urlopen(\"https://ru.wikipedia.org/wiki/Python\").read().decode('utf-8')\n",
    "#html = '567<fghj> <fghj> 5 < 8 fgh' # 567  5  5 < 8 fgh\n",
    "html = '567<fghj> <fghj> 5 > 8 fgh'  # 567  8 fgh ??? Корректно ли ???\n",
    "\n",
    "text = []\n",
    "start = 0\n",
    "for i, c in enumerate(html):\n",
    "    if c == '<':\n",
    "        text.append(html[start:i])\n",
    "    elif c == '>':\n",
    "        state = 0\n",
    "        start = i + 1\n",
    "text.append(html[start:])\n",
    "       \n",
    "text = ''.join(text)\n",
    "print(text)\n",
    "print(text.count('C++'))"
   ]
  },
  {
   "cell_type": "markdown",
   "metadata": {},
   "source": [
    "Немного доработала свой скрипт: теперь отрабатывает хорошо, когда в тексте есть свободные < и >. Попробовала ещё на одном тестовом случае: вложенные теги (последний тестовый случай). Не работает. Ну и черт с ним. Вложенные теги по идее и не должны встречаться, впрочем, свободные < и > тоже."
   ]
  },
  {
   "cell_type": "code",
   "execution_count": 91,
   "metadata": {},
   "outputs": [
    {
     "name": "stdout",
     "output_type": "stream",
     "text": [
      "567<fg   5 > 8 fgh\n",
      "0\n"
     ]
    }
   ],
   "source": [
    "from urllib.request import urlopen\n",
    "\n",
    "#html = urlopen(\"https://ru.wikipedia.org/wiki/Python\").read().decode('utf-8')\n",
    "# html = '567<fghj> <fghj> 5 < 8 fgh'  # 567  5 < 8 fgh\n",
    "# html = '567<fghj> <fghj> 5 > 8 fgh'  # 567  5 > 8 fgh\n",
    "html = '567<fg <111 hj> <fghj> 5 > 8 fgh' # 567<fg   5 > 8 fgh\n",
    "html = '567<fg <111> hj> <fghj> 5 > 8 fgh' # 567<fg  hj>  5 > 8 fgh ???\n",
    "\n",
    "text = []\n",
    "state = 0\n",
    "start = 0\n",
    "for i, c in enumerate(html):\n",
    "    if c == '<':\n",
    "        text.append(html[start:i])\n",
    "        state = 1\n",
    "        start = i\n",
    "    elif c == '>':\n",
    "        if state:\n",
    "            start = i + 1\n",
    "        state = 0\n",
    "text.append(html[start:])\n",
    "       \n",
    "text = ''.join(text)\n",
    "print(text)\n",
    "print(text.count('C++'))"
   ]
  },
  {
   "cell_type": "markdown",
   "metadata": {},
   "source": [
    "### Задача 1.2"
   ]
  },
  {
   "cell_type": "markdown",
   "metadata": {},
   "source": [
    "Файл https://stepik.org/media/attachments/lesson/209719/2.html содержит статью с Википедии про язык Python. В этой статье есть теги code, которыми выделяются конструкции на языке Python. Вам нужно найти все строки, содержащиеся между тегами <code> и </code> и найти те строки, которые встречаются чаще всего и вывести их в алфавитном порядке, разделяя пробелами.\n",
    "\n",
    "Например, если исходный текст страницы выглядел бы так:\n",
    "\n",
    "<code>a</code>  \n",
    "<a>bracadabr</a>  \n",
    "<code>c</code>  \n",
    "<code>b</code>  \n",
    "<code>b</code>  \n",
    "<code>c</code>  \n",
    "то в ответ надо было бы ввести строку \"b c\"."
   ]
  },
  {
   "cell_type": "code",
   "execution_count": 16,
   "metadata": {},
   "outputs": [
    {
     "name": "stdout",
     "output_type": "stream",
     "text": [
      "else except finally\n"
     ]
    }
   ],
   "source": [
    "from collections import Counter\n",
    "from urllib.request import urlopen\n",
    "import re\n",
    "\n",
    "html = urlopen(\"https://stepik.org/media/attachments/lesson/209719/2.html\").read().decode('utf-8')\n",
    "sorted_counters = Counter(re.findall(r'<code>(.*?)<\\/code>', html)).most_common()\n",
    "print(' '.join(sorted(s for s, c in sorted_counters if c == sorted_counters[0][1])))"
   ]
  },
  {
   "cell_type": "markdown",
   "metadata": {},
   "source": [
    "Почти тоже самое, но без предварительной сортировки содержимого словаря, которая по идее, происходит в методе most_common():"
   ]
  },
  {
   "cell_type": "code",
   "execution_count": 20,
   "metadata": {},
   "outputs": [
    {
     "name": "stdout",
     "output_type": "stream",
     "text": [
      "4\n",
      "else except finally\n"
     ]
    }
   ],
   "source": [
    "from collections import Counter\n",
    "from urllib.request import urlopen\n",
    "from operator import itemgetter\n",
    "import re\n",
    "\n",
    "html = urlopen(\"https://stepik.org/media/attachments/lesson/209719/2.html\").read().decode('utf-8')\n",
    "counters = Counter(re.findall(r'<code>(.*?)<\\/code>', html))\n",
    "print(' '.join(sorted(s for s, c in counters.items() if c == max(counters.values()))))"
   ]
  },
  {
   "cell_type": "code",
   "execution_count": 3,
   "metadata": {},
   "outputs": [
    {
     "name": "stdout",
     "output_type": "stream",
     "text": [
      "Help on function update in module collections:\n",
      "\n",
      "update(*args, **kwds)\n",
      "    Like dict.update() but add counts instead of replacing them.\n",
      "    \n",
      "    Source can be an iterable, a dictionary, or another Counter instance.\n",
      "    \n",
      "    >>> c = Counter('which')\n",
      "    >>> c.update('witch')           # add elements from another iterable\n",
      "    >>> d = Counter('watch')\n",
      "    >>> c.update(d)                 # add elements from another counter\n",
      "    >>> c['h']                      # four 'h' in which, witch, and watch\n",
      "    4\n",
      "\n"
     ]
    }
   ],
   "source": [
    "help(Counter.update)"
   ]
  },
  {
   "cell_type": "code",
   "execution_count": 4,
   "metadata": {},
   "outputs": [
    {
     "name": "stdout",
     "output_type": "stream",
     "text": [
      "Help on method_descriptor:\n",
      "\n",
      "update(...)\n",
      "    D.update([E, ]**F) -> None.  Update D from dict/iterable E and F.\n",
      "    If E is present and has a .keys() method, then does:  for k in E: D[k] = E[k]\n",
      "    If E is present and lacks a .keys() method, then does:  for k, v in E: D[k] = v\n",
      "    In either case, this is followed by: for k in F:  D[k] = F[k]\n",
      "\n"
     ]
    }
   ],
   "source": [
    "help(dict.update)"
   ]
  },
  {
   "cell_type": "code",
   "execution_count": 13,
   "metadata": {},
   "outputs": [
    {
     "name": "stdout",
     "output_type": "stream",
     "text": [
      "Help on function most_common in module collections:\n",
      "\n",
      "most_common(self, n=None)\n",
      "    List the n most common elements and their counts from the most\n",
      "    common to the least.  If n is None, then list all element counts.\n",
      "    \n",
      "    >>> Counter('abcdeabcdabcaba').most_common(3)\n",
      "    [('a', 5), ('b', 4), ('c', 3)]\n",
      "\n"
     ]
    }
   ],
   "source": [
    "help(Counter.most_common)"
   ]
  },
  {
   "cell_type": "markdown",
   "metadata": {},
   "source": [
    "## 1.3 Знакомство с BeautifulSoup"
   ]
  },
  {
   "cell_type": "markdown",
   "metadata": {},
   "source": [
    "Наша задача:  \n",
    "Взять страницу с википедии (https://ru.wikipedia.org/wiki/Python) и найти все ссылки, которые с неё ведут.\n",
    "\n"
   ]
  },
  {
   "cell_type": "markdown",
   "metadata": {},
   "source": [
    "Решение стандарными средствами Python:"
   ]
  },
  {
   "cell_type": "code",
   "execution_count": 1,
   "metadata": {},
   "outputs": [
    {
     "name": "stdout",
     "output_type": "stream",
     "text": [
      "['/wiki/%D0%92%D0%B8%D0%BA%D0%B8%D0%BF%D0%B5%D0%B4%D0%B8%D1%8F:%D0%9F%D0%B0%D1%82%D1%80%D1%83%D0%BB%D0%B8%D1%80%D0%BE%D0%B2%D0%B0%D0%BD%D0%B8%D0%B5'] 1357\n"
     ]
    }
   ],
   "source": [
    "from urllib.request import urlopen\n",
    "\n",
    "html = urlopen(\"https://ru.wikipedia.org/wiki/Python\").read().decode('utf-8')\n",
    "\n",
    "hrefs = []\n",
    "pos = html.find('<a href=')\n",
    "while pos != -1:\n",
    "    pos2 = html.find('\"', pos + 9)\n",
    "    hrefs.append(html[pos + 9:pos2])\n",
    "    pos = html.find('<a href=', pos2 + 1)\n",
    "print(hrefs[0:1], len(hrefs))"
   ]
  },
  {
   "cell_type": "code",
   "execution_count": 3,
   "metadata": {},
   "outputs": [
    {
     "ename": "ModuleNotFoundError",
     "evalue": "No module named 'beautifulsoup4'",
     "output_type": "error",
     "traceback": [
      "\u001b[1;31m---------------------------------------------------------------------------\u001b[0m",
      "\u001b[1;31mModuleNotFoundError\u001b[0m                       Traceback (most recent call last)",
      "\u001b[1;32m<ipython-input-3-4936aa158df6>\u001b[0m in \u001b[0;36m<module>\u001b[1;34m\u001b[0m\n\u001b[1;32m----> 1\u001b[1;33m \u001b[1;32mimport\u001b[0m \u001b[0mbeautifulsoup4\u001b[0m \u001b[1;32mas\u001b[0m \u001b[0mbs\u001b[0m\u001b[1;33m\u001b[0m\u001b[1;33m\u001b[0m\u001b[0m\n\u001b[0m",
      "\u001b[1;31mModuleNotFoundError\u001b[0m: No module named 'beautifulsoup4'"
     ]
    }
   ],
   "source": [
    "import beautifulsoup4 as bs"
   ]
  },
  {
   "cell_type": "code",
   "execution_count": null,
   "metadata": {},
   "outputs": [],
   "source": []
  }
 ],
 "metadata": {
  "kernelspec": {
   "display_name": "stepic_web_gust_py3_7",
   "language": "python",
   "name": "stepic_web_gust_py3_7"
  },
  "language_info": {
   "codemirror_mode": {
    "name": "ipython",
    "version": 3
   },
   "file_extension": ".py",
   "mimetype": "text/x-python",
   "name": "python",
   "nbconvert_exporter": "python",
   "pygments_lexer": "ipython3",
   "version": "3.7.9"
  }
 },
 "nbformat": 4,
 "nbformat_minor": 2
}
